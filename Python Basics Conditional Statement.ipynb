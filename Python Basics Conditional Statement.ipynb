{
 "cells": [
  {
   "cell_type": "markdown",
   "metadata": {},
   "source": [
    "# IF STATEMENT"
   ]
  },
  {
   "cell_type": "code",
   "execution_count": null,
   "metadata": {},
   "outputs": [],
   "source": [
    "#### WHEN ONE CONDITION AND ONE OUTPUT-------> IF\n",
    "# WHEN TWO CONDITIONS AND TWO OUTPUT-------> IF ELSE OR IF IF\n",
    "# WHEN MORE THEN TWO CONDITIONS AND MORE THAN TWO OUTPUT--------> ELIF"
   ]
  },
  {
   "cell_type": "code",
   "execution_count": 1,
   "metadata": {},
   "outputs": [
    {
     "name": "stdout",
     "output_type": "stream",
     "text": [
      "Hooray!\n"
     ]
    }
   ],
   "source": [
    "#If Statement [One Condition - One Print - One Output]\n",
    "#Operator : == (Equals to)\n",
    "#Case: Condition Satisfied\n",
    "\n",
    "if 5==15/3:            \n",
    "    print(\"Hooray!\")"
   ]
  },
  {
   "cell_type": "code",
   "execution_count": 5,
   "metadata": {},
   "outputs": [
    {
     "name": "stdout",
     "output_type": "stream",
     "text": [
      "Hooray!\n"
     ]
    }
   ],
   "source": [
    "#If Statement [One Condition - One Print - One Output]\n",
    "#Operator : != (Not Equals to)\n",
    "#Case: Condition Satisfied\n",
    "\n",
    "if 5 != 3*6:\n",
    "    print(\"Hooray!\")"
   ]
  },
  {
   "cell_type": "code",
   "execution_count": 4,
   "metadata": {},
   "outputs": [],
   "source": [
    "#If Statement [One Condition - One Print - But No Output]\n",
    "#Operators: == (Equals to)\n",
    "#Case: Condition not satisfied\n",
    "\n",
    "if 5==18/3:\n",
    "    print(\"Hooray!\")"
   ]
  },
  {
   "cell_type": "code",
   "execution_count": 23,
   "metadata": {},
   "outputs": [
    {
     "name": "stdout",
     "output_type": "stream",
     "text": [
      "Hooray!\n"
     ]
    }
   ],
   "source": [
    "#If Statement [One Condition - One Print - But No Output]\n",
    "#Operators: < (Less Than)\n",
    "#Case: Condition not satisfied\n",
    "\n",
    "if 5<18/3:\n",
    "    print(\"Hooray!\")"
   ]
  },
  {
   "cell_type": "markdown",
   "metadata": {},
   "source": [
    "# IF ELSE STATEMENT"
   ]
  },
  {
   "cell_type": "code",
   "execution_count": 6,
   "metadata": {},
   "outputs": [
    {
     "name": "stdout",
     "output_type": "stream",
     "text": [
      "Both are not  equals\n"
     ]
    }
   ],
   "source": [
    "#If Else Statement [One Condition - Two Print - One Output]\n",
    "#Operators: ==(Equals to)\n",
    "#Case: Condition not satisfied\n",
    "\n",
    "if 5==18/3:\n",
    "    print(\"Both are equals\")\n",
    "else:\n",
    "    print(\"Both are not  equals\")"
   ]
  },
  {
   "cell_type": "code",
   "execution_count": 9,
   "metadata": {},
   "outputs": [
    {
     "name": "stdout",
     "output_type": "stream",
     "text": [
      "Both are not  equals\n"
     ]
    }
   ],
   "source": [
    "#If-If Statement [Two Condition - Two Print - One Output]\n",
    "#Operators: ==(Equals to)\n",
    "#Case: Condition not satisfied\n",
    "\n",
    "if 5==18/3:\n",
    "    print(\"Both are equals\")\n",
    "if 5!=18/3:\n",
    "    print(\"Both are not  equals\")"
   ]
  },
  {
   "cell_type": "markdown",
   "metadata": {},
   "source": [
    "# IF ELIF ELSE STATEMENT"
   ]
  },
  {
   "cell_type": "code",
   "execution_count": 8,
   "metadata": {},
   "outputs": [
    {
     "name": "stdout",
     "output_type": "stream",
     "text": [
      "It is not equals to any numbers\n"
     ]
    }
   ],
   "source": [
    "#If-Elsi-Else Statement [Multiple Conditions - Multiple Print - One Output]\n",
    "#Operators: ==(Equals to)\n",
    "#Case: Condition not satisfied\n",
    "\n",
    "#Variable with its value\n",
    "A = 10\n",
    "\n",
    "#If Elis & Else with multiple conditions and \n",
    "\n",
    "if A==5:\n",
    "    print(\"It is equals to five\")\n",
    "elif A==6:\n",
    "    print(\"It is equals to six\")\n",
    "elif A==8:\n",
    "    print(\"It is equals to eight\")\n",
    "else:\n",
    "    print(\"It is not equals to any numbers\")"
   ]
  },
  {
   "cell_type": "markdown",
   "metadata": {},
   "source": [
    "# IF ELIF ELSE STATEMENT IN DEFINING FUNCTION"
   ]
  },
  {
   "cell_type": "code",
   "execution_count": null,
   "metadata": {},
   "outputs": [],
   "source": [
    "#Def Function with If-Elsi-Else Statement\n",
    "#If-Elsi-Else Statement [Multiple Conditions - Multiple Print - One Output]\n",
    "#Operators: ==(Equals to)\n",
    "#Case: Condition not satisfied\n",
    "\n",
    "def compare_to_five(y):\n",
    "    if y>5:\n",
    "        return \"Greater\"\n",
    "    elif y<5:\n",
    "        return \"Less\"\n",
    "    else:\n",
    "        return \"Equals\""
   ]
  },
  {
   "cell_type": "code",
   "execution_count": 22,
   "metadata": {},
   "outputs": [
    {
     "name": "stdout",
     "output_type": "stream",
     "text": [
      "Less\n",
      "Less\n",
      "Less\n",
      "Less\n",
      "Equals\n",
      "Greater\n",
      "Greater\n",
      "Greater\n",
      "Greater\n",
      "Greater\n"
     ]
    }
   ],
   "source": [
    "#Printing a result on above function\n",
    "\n",
    "print(compare_to_five(1))\n",
    "print(compare_to_five(2))\n",
    "print(compare_to_five(3))\n",
    "print(compare_to_five(4))\n",
    "print(compare_to_five(5))\n",
    "print(compare_to_five(6))\n",
    "print(compare_to_five(7))\n",
    "print(compare_to_five(8))\n",
    "print(compare_to_five(9))\n",
    "print(compare_to_five(10))"
   ]
  }
 ],
 "metadata": {
  "kernelspec": {
   "display_name": "Python 3",
   "language": "python",
   "name": "python3"
  },
  "language_info": {
   "codemirror_mode": {
    "name": "ipython",
    "version": 3
   },
   "file_extension": ".py",
   "mimetype": "text/x-python",
   "name": "python",
   "nbconvert_exporter": "python",
   "pygments_lexer": "ipython3",
   "version": "3.8.3"
  }
 },
 "nbformat": 4,
 "nbformat_minor": 4
}
