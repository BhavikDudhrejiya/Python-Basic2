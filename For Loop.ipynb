{
 "cells": [
  {
   "cell_type": "markdown",
   "metadata": {},
   "source": [
    "#WHILE LOOP"
   ]
  },
  {
   "cell_type": "code",
   "execution_count": 17,
   "metadata": {},
   "outputs": [],
   "source": [
    "#Loop is a function which helps us to do same things repeatedly\n",
    "#The are two types of loop in Python - for loop and while loop"
   ]
  },
  {
   "cell_type": "code",
   "execution_count": 19,
   "metadata": {},
   "outputs": [
    {
     "name": "stdout",
     "output_type": "stream",
     "text": [
      "yes 0\n",
      "yes 1\n",
      "yes 2\n",
      "yes 3\n",
      "yes 4\n",
      "yes 5\n",
      "yes 6\n",
      "yes 7\n",
      "yes 8\n",
      "yes 9\n"
     ]
    }
   ],
   "source": [
    "i = 0\n",
    "\n",
    "while i <10:\n",
    "    print(\"yes\", str(i))\n",
    "    i = i+1"
   ]
  },
  {
   "cell_type": "code",
   "execution_count": 21,
   "metadata": {},
   "outputs": [
    {
     "name": "stdout",
     "output_type": "stream",
     "text": [
      "0\n",
      "1\n",
      "2\n",
      "3\n",
      "4\n",
      "5\n",
      "6\n",
      "7\n",
      "8\n",
      "9\n",
      "10\n",
      "11\n",
      "12\n",
      "13\n",
      "14\n",
      "15\n",
      "16\n",
      "17\n",
      "18\n",
      "19\n",
      "20\n",
      "21\n",
      "22\n",
      "23\n",
      "24\n",
      "25\n",
      "26\n",
      "27\n",
      "28\n",
      "29\n",
      "30\n",
      "31\n",
      "32\n",
      "33\n",
      "34\n",
      "35\n",
      "36\n",
      "37\n",
      "38\n",
      "39\n",
      "40\n",
      "41\n",
      "42\n",
      "43\n",
      "44\n",
      "45\n",
      "46\n",
      "47\n",
      "48\n",
      "49\n"
     ]
    }
   ],
   "source": [
    "a = 0\n",
    "\n",
    "while a<50:\n",
    "    print(a)\n",
    "    a = a+1"
   ]
  },
  {
   "cell_type": "code",
   "execution_count": 24,
   "metadata": {},
   "outputs": [
    {
     "name": "stdout",
     "output_type": "stream",
     "text": [
      "-4.5\n",
      "-3.5\n",
      "-2.5\n",
      "-1.5\n",
      "-0.5\n",
      "0.5\n",
      "1.5\n",
      "2.5\n",
      "3.5\n",
      "4.5\n"
     ]
    }
   ],
   "source": [
    "list = [1,2,3,4,5,6,7,8,9,10]\n",
    "\n",
    "for i in list:\n",
    "    print(i-sum(list)/len(list))\n"
   ]
  },
  {
   "cell_type": "code",
   "execution_count": 2,
   "metadata": {},
   "outputs": [
    {
     "name": "stdout",
     "output_type": "stream",
     "text": [
      "1 Odd Number\n",
      "2 Even Number\n",
      "3 Odd Number\n",
      "4 Even Number\n",
      "5 Odd Number\n",
      "6 Even Number\n",
      "7 Odd Number\n",
      "8 Even Number\n",
      "9 Odd Number\n",
      "10 Even Number\n",
      "11 Odd Number\n",
      "12 Even Number\n",
      "13 Odd Number\n",
      "14 Even Number\n",
      "15 Odd Number\n",
      "16 Even Number\n",
      "17 Odd Number\n",
      "18 Even Number\n",
      "19 Odd Number\n",
      "20 Even Number\n",
      "21 Odd Number\n",
      "22 Even Number\n",
      "23 Odd Number\n",
      "24 Even Number\n",
      "25 Odd Number\n",
      "26 Even Number\n",
      "27 Odd Number\n",
      "28 Even Number\n",
      "29 Odd Number\n",
      "30 Even Number\n",
      "31 Odd Number\n",
      "32 Even Number\n",
      "33 Odd Number\n",
      "34 Even Number\n",
      "35 Odd Number\n",
      "36 Even Number\n",
      "37 Odd Number\n",
      "38 Even Number\n",
      "39 Odd Number\n",
      "40 Even Number\n",
      "41 Odd Number\n",
      "42 Even Number\n",
      "43 Odd Number\n",
      "44 Even Number\n",
      "45 Odd Number\n",
      "46 Even Number\n",
      "47 Odd Number\n",
      "48 Even Number\n",
      "49 Odd Number\n",
      "50 Even Number\n",
      "51 Odd Number\n",
      "52 Even Number\n",
      "53 Odd Number\n",
      "54 Even Number\n",
      "55 Odd Number\n",
      "56 Even Number\n",
      "57 Odd Number\n",
      "58 Even Number\n",
      "59 Odd Number\n",
      "60 Even Number\n",
      "61 Odd Number\n",
      "62 Even Number\n",
      "63 Odd Number\n",
      "64 Even Number\n",
      "65 Odd Number\n",
      "66 Even Number\n",
      "67 Odd Number\n",
      "68 Even Number\n",
      "69 Odd Number\n",
      "70 Even Number\n",
      "71 Odd Number\n",
      "72 Even Number\n",
      "73 Odd Number\n",
      "74 Even Number\n",
      "75 Odd Number\n",
      "76 Even Number\n",
      "77 Odd Number\n",
      "78 Even Number\n",
      "79 Odd Number\n",
      "80 Even Number\n",
      "81 Odd Number\n",
      "82 Even Number\n",
      "83 Odd Number\n",
      "84 Even Number\n",
      "85 Odd Number\n",
      "86 Even Number\n",
      "87 Odd Number\n",
      "88 Even Number\n",
      "89 Odd Number\n",
      "90 Even Number\n",
      "91 Odd Number\n",
      "92 Even Number\n",
      "93 Odd Number\n",
      "94 Even Number\n",
      "95 Odd Number\n",
      "96 Even Number\n",
      "97 Odd Number\n",
      "98 Even Number\n",
      "99 Odd Number\n"
     ]
    }
   ],
   "source": [
    "import numpy as np\n",
    "\n",
    "#Extract even numbers from the list\n",
    "list = np.arange(1,100,1)\n",
    "\n",
    "for i in list:\n",
    "    if i%2==0:\n",
    "        print(i,\"Even Number\")\n",
    "    else:\n",
    "        print(i,\"Odd Number\")"
   ]
  },
  {
   "cell_type": "code",
   "execution_count": 38,
   "metadata": {},
   "outputs": [
    {
     "name": "stdout",
     "output_type": "stream",
     "text": [
      "Array: [ 1  2  3  4  5  6  7  8  9 10 11 12 13 14 15 16 17 18 19 20 21 22 23 24\n",
      " 25 26 27 28 29 30 31 32 33 34 35 36 37 38 39 40 41 42 43 44 45 46 47 48\n",
      " 49 50 51 52 53 54 55 56 57 58 59 60 61 62 63 64 65 66 67 68 69 70 71 72\n",
      " 73 74 75 76 77 78 79 80 81 82 83 84 85 86 87 88 89 90 91 92 93 94 95 96\n",
      " 97 98 99]\n",
      "Mean: 50.0\n",
      "Squared Error: 80850.0\n",
      "Standard Deviation 28.722813232690143\n"
     ]
    }
   ],
   "source": [
    "#Importing libraries\n",
    "import math\n",
    "import statistics\n",
    "import numpy as np\n",
    "\n",
    "#Creating array from 1 to 100\n",
    "x = np.arange(1,100,1)\n",
    "print(\"Array:\",x)\n",
    "\n",
    "#Computing average in array\n",
    "mean = sum(x)/len(x)\n",
    "print(\"Mean:\",mean)\n",
    "\n",
    "#Computing Squared Error (x - mean of x)^2\n",
    "squared_error = sum(pow((i - mean),2)for i in x)\n",
    "print(\"Squared Error:\",squared_error)\n",
    "\n",
    "#Computing Standard Deviation\n",
    "squared_error/len(x)\n",
    "std = math.sqrt(squared_error/(len(x)-1))\n",
    "print(\"Standard Deviation\",std)"
   ]
  },
  {
   "cell_type": "code",
   "execution_count": 22,
   "metadata": {},
   "outputs": [
    {
     "name": "stdout",
     "output_type": "stream",
     "text": [
      "[ 1  2  3  4  5  6  7  8  9 10 11 12 13 14 15 16 17 18 19 20 21 22 23 24\n",
      " 25 26 27 28 29 30 31 32 33 34 35 36 37 38 39 40 41 42 43 44 45 46 47 48\n",
      " 49 50]\n"
     ]
    }
   ],
   "source": [
    "#Creating 1 to 50 numbers\n",
    "list = np.arange(1,51,1)\n",
    "print(list)"
   ]
  },
  {
   "cell_type": "code",
   "execution_count": 35,
   "metadata": {},
   "outputs": [
    {
     "name": "stdout",
     "output_type": "stream",
     "text": [
      "2\n",
      "4\n",
      "6\n",
      "8\n",
      "10\n",
      "12\n",
      "14\n",
      "16\n",
      "18\n",
      "20\n",
      "22\n",
      "24\n",
      "26\n",
      "28\n",
      "30\n",
      "32\n",
      "34\n",
      "36\n",
      "38\n",
      "40\n",
      "42\n",
      "44\n",
      "46\n",
      "48\n",
      "50\n"
     ]
    }
   ],
   "source": [
    "#Running for loop and extracting only even numbers\n",
    "for i in list:\n",
    "    if i%2==0:\n",
    "        print(i)"
   ]
  },
  {
   "cell_type": "code",
   "execution_count": 36,
   "metadata": {},
   "outputs": [
    {
     "name": "stdout",
     "output_type": "stream",
     "text": [
      "1\n",
      "3\n",
      "5\n",
      "7\n",
      "9\n",
      "11\n",
      "13\n",
      "15\n",
      "17\n",
      "19\n",
      "21\n",
      "23\n",
      "25\n",
      "27\n",
      "29\n",
      "31\n",
      "33\n",
      "35\n",
      "37\n",
      "39\n",
      "41\n",
      "43\n",
      "45\n",
      "47\n",
      "49\n"
     ]
    }
   ],
   "source": [
    "#Running for loop and extracting only odd numbers\n",
    "for i in list:\n",
    "    if i%2!=0:\n",
    "        print(i)"
   ]
  },
  {
   "cell_type": "code",
   "execution_count": 29,
   "metadata": {},
   "outputs": [
    {
     "name": "stdout",
     "output_type": "stream",
     "text": [
      "[12, 45, 65, 85, 94, 23, 21, 14, 8, 55]\n"
     ]
    }
   ],
   "source": [
    "list1 = [12,45,65,85,94,23,21,14,8,55]\n",
    "print(list1)"
   ]
  },
  {
   "cell_type": "code",
   "execution_count": 45,
   "metadata": {},
   "outputs": [
    {
     "data": {
      "text/plain": [
       "19.488458122694055"
      ]
     },
     "execution_count": 45,
     "metadata": {},
     "output_type": "execute_result"
    }
   ],
   "source": [
    "math.sqrt(sum(i-(sum(list1)/len(list1)**2) for i in list1))"
   ]
  },
  {
   "cell_type": "code",
   "execution_count": 41,
   "metadata": {},
   "outputs": [
    {
     "data": {
      "text/plain": [
       "31.449430307505835"
      ]
     },
     "execution_count": 41,
     "metadata": {},
     "output_type": "execute_result"
    }
   ],
   "source": [
    "statistics.stdev(list1)"
   ]
  },
  {
   "cell_type": "code",
   "execution_count": 70,
   "metadata": {},
   "outputs": [
    {
     "name": "stdout",
     "output_type": "stream",
     "text": [
      "Mean: 42.2\n",
      "Sum of Squared Error: 8901.6\n",
      "Variance: 989.0666666666667\n",
      "Standard Deviation 31.44943030750584\n"
     ]
    }
   ],
   "source": [
    "mean = sum(list1)/len(list1)\n",
    "sum_of_squared_error = sum((i - mean)**2 for i in list1)\n",
    "variance = sum_of_squared_error / (len(list1)-1)\n",
    "standard_deviation = math.sqrt(variance)\n",
    "\n",
    "print(\"Mean:\",mean)\n",
    "print(\"Sum of Squared Error:\",sum_of_squared_error)\n",
    "print(\"Variance:\",variance)\n",
    "print(\"Standard Deviation\",standard_deviation)"
   ]
  },
  {
   "cell_type": "code",
   "execution_count": 66,
   "metadata": {},
   "outputs": [
    {
     "data": {
      "text/plain": [
       "31.449430307505835"
      ]
     },
     "execution_count": 66,
     "metadata": {},
     "output_type": "execute_result"
    }
   ],
   "source": []
  },
  {
   "cell_type": "code",
   "execution_count": 61,
   "metadata": {},
   "outputs": [
    {
     "data": {
      "text/plain": [
       "8901.6"
      ]
     },
     "execution_count": 61,
     "metadata": {},
     "output_type": "execute_result"
    }
   ],
   "source": []
  }
 ],
 "metadata": {
  "kernelspec": {
   "display_name": "Python 3",
   "language": "python",
   "name": "python3"
  },
  "language_info": {
   "codemirror_mode": {
    "name": "ipython",
    "version": 3
   },
   "file_extension": ".py",
   "mimetype": "text/x-python",
   "name": "python",
   "nbconvert_exporter": "python",
   "pygments_lexer": "ipython3",
   "version": "3.8.3"
  }
 },
 "nbformat": 4,
 "nbformat_minor": 4
}
