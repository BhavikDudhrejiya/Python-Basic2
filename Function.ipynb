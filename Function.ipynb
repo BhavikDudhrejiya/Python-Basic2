{
 "cells": [
  {
   "cell_type": "code",
   "execution_count": 72,
   "metadata": {},
   "outputs": [
    {
     "name": "stdout",
     "output_type": "stream",
     "text": [
      "51.0\n"
     ]
    }
   ],
   "source": [
    "#Computing average manually\n",
    "marks = [12,45,30,80,75,64]\n",
    "\n",
    "average = sum(marks)/len(marks)\n",
    "\n",
    "print(average)"
   ]
  },
  {
   "cell_type": "code",
   "execution_count": 73,
   "metadata": {},
   "outputs": [
    {
     "data": {
      "text/plain": [
       "51.0"
      ]
     },
     "execution_count": 73,
     "metadata": {},
     "output_type": "execute_result"
    }
   ],
   "source": [
    "#Creating function which compute average\n",
    "marks = [12,45,30,80,75,64]\n",
    "\n",
    "def average(marks):\n",
    "    return sum(marks)/len(marks)\n",
    "\n",
    "average(marks)"
   ]
  },
  {
   "cell_type": "code",
   "execution_count": 74,
   "metadata": {},
   "outputs": [
    {
     "data": {
      "text/plain": [
       "156456"
      ]
     },
     "execution_count": 74,
     "metadata": {},
     "output_type": "execute_result"
    }
   ],
   "source": [
    "#Creating function of finding maximum value\n",
    "def maximum(num1,num2,num3):\n",
    "    if (num1>num2):\n",
    "        if(num1>num3):\n",
    "            return num1\n",
    "        else:\n",
    "            return num3\n",
    "    else:\n",
    "        if(num2>num3):\n",
    "            return num2\n",
    "        else:\n",
    "            return num3\n",
    "\n",
    "maximum(156456,25,47)"
   ]
  },
  {
   "cell_type": "code",
   "execution_count": 75,
   "metadata": {},
   "outputs": [],
   "source": [
    "#Computing Standard Deviation\n",
    "#SD = SQRT(sum(x - mean of x)/n)\n",
    "\n",
    "def sd(x):\n",
    "    return math.sqrt(((sum(x-sum(x))/(len(x))))/len(x))"
   ]
  },
  {
   "cell_type": "code",
   "execution_count": 41,
   "metadata": {},
   "outputs": [
    {
     "name": "stdout",
     "output_type": "stream",
     "text": [
      "0.19202864369671518\n"
     ]
    }
   ],
   "source": [
    "xs = [0.5,0.7,0.3,0.2]     # values (must be floats!)\n",
    "mean = sum(xs) / len(xs)   # mean\n",
    "var  = sum(pow(x-mean,2) for x in xs) / len(xs)  # variance\n",
    "std  = math.sqrt(var)  # standard deviation\n",
    "print(std)"
   ]
  },
  {
   "cell_type": "code",
   "execution_count": 71,
   "metadata": {},
   "outputs": [
    {
     "name": "stdout",
     "output_type": "stream",
     "text": [
      "Marks list is : [12, 45, 78, 94, 45, 65, 85, 25, 31, 42, 48, 52, 61, 84, 92, 82]\n",
      "Average: 58.8125\n",
      "Variance: 9544.4375\n",
      "Standard Deviation: 25.224905021294596\n"
     ]
    }
   ],
   "source": [
    "#Importing math library\n",
    "import math\n",
    "\n",
    "#Creating list of some numbers\n",
    "marks2 = [12,45,78,94,45,65,85,25,31,42,48,52,61,84,92,82]\n",
    "print(\"Marks list is :\",marks2)\n",
    "\n",
    "#Computing average\n",
    "mean = sum(marks2)/len(marks2)\n",
    "print(\"Average:\",mean)\n",
    "\n",
    "#Computing Squared Errors\n",
    "var = sum(pow(marks - mean,2)for marks in marks2)\n",
    "print(\"Variance:\",var)\n",
    "\n",
    "SD = math.sqrt(var/(len(marks2)-1))\n",
    "print(\"Standard Deviation:\", SD)"
   ]
  },
  {
   "cell_type": "code",
   "execution_count": 55,
   "metadata": {},
   "outputs": [
    {
     "data": {
      "text/plain": [
       "25.224905021294596"
      ]
     },
     "execution_count": 55,
     "metadata": {},
     "output_type": "execute_result"
    }
   ],
   "source": [
    "#Computing standard deviation through function\n",
    "\n",
    "#Importing statistics library\n",
    "import statistics \n",
    "\n",
    "#Computing standard deviation\n",
    "statistics.stdev(marks2)"
   ]
  },
  {
   "cell_type": "code",
   "execution_count": 81,
   "metadata": {},
   "outputs": [
    {
     "data": {
      "text/plain": [
       "25.224905021294596"
      ]
     },
     "execution_count": 81,
     "metadata": {},
     "output_type": "execute_result"
    }
   ],
   "source": [
    "#Creating Standard Deviation Function\n",
    "def stdev(a):\n",
    "    stdev = math.sqrt((sum(pow(marks - (sum(marks2)/len(marks2)),2)for marks in marks2))/(len(marks2)-1))\n",
    "    return stdev\n",
    "\n",
    "#Computing standard deviation\n",
    "stdev(marks2)"
   ]
  }
 ],
 "metadata": {
  "kernelspec": {
   "display_name": "Python 3",
   "language": "python",
   "name": "python3"
  },
  "language_info": {
   "codemirror_mode": {
    "name": "ipython",
    "version": 3
   },
   "file_extension": ".py",
   "mimetype": "text/x-python",
   "name": "python",
   "nbconvert_exporter": "python",
   "pygments_lexer": "ipython3",
   "version": "3.8.3"
  }
 },
 "nbformat": 4,
 "nbformat_minor": 4
}
