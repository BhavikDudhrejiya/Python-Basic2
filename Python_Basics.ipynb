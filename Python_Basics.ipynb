{
 "cells": [
  {
   "cell_type": "markdown",
   "metadata": {},
   "source": [
    "# Hello World"
   ]
  },
  {
   "cell_type": "code",
   "execution_count": null,
   "metadata": {},
   "outputs": [],
   "source": [
    "#Printing Hello World\n",
    "print(\"Hello World\")"
   ]
  },
  {
   "cell_type": "markdown",
   "metadata": {},
   "source": [
    "# Numbers and Math in Python"
   ]
  },
  {
   "cell_type": "code",
   "execution_count": 2,
   "metadata": {},
   "outputs": [
    {
     "data": {
      "text/plain": [
       "103"
      ]
     },
     "execution_count": 2,
     "metadata": {},
     "output_type": "execute_result"
    }
   ],
   "source": [
    "#Addition\n",
    "5+98"
   ]
  },
  {
   "cell_type": "code",
   "execution_count": 3,
   "metadata": {},
   "outputs": [
    {
     "data": {
      "text/plain": [
       "30"
      ]
     },
     "execution_count": 3,
     "metadata": {},
     "output_type": "execute_result"
    }
   ],
   "source": [
    "#Subtraction\n",
    "34-4"
   ]
  },
  {
   "cell_type": "code",
   "execution_count": 4,
   "metadata": {},
   "outputs": [
    {
     "data": {
      "text/plain": [
       "3132"
      ]
     },
     "execution_count": 4,
     "metadata": {},
     "output_type": "execute_result"
    }
   ],
   "source": [
    "#Multiplication\n",
    "54*58"
   ]
  },
  {
   "cell_type": "code",
   "execution_count": 5,
   "metadata": {},
   "outputs": [
    {
     "data": {
      "text/plain": [
       "4.0"
      ]
     },
     "execution_count": 5,
     "metadata": {},
     "output_type": "execute_result"
    }
   ],
   "source": [
    "#Division\n",
    "20/5"
   ]
  },
  {
   "cell_type": "code",
   "execution_count": 7,
   "metadata": {},
   "outputs": [
    {
     "data": {
      "text/plain": [
       "3.2857142857142856"
      ]
     },
     "execution_count": 7,
     "metadata": {},
     "output_type": "execute_result"
    }
   ],
   "source": [
    "#Division (In Decimal)\n",
    "23/7"
   ]
  },
  {
   "cell_type": "code",
   "execution_count": 8,
   "metadata": {},
   "outputs": [
    {
     "data": {
      "text/plain": [
       "3"
      ]
     },
     "execution_count": 8,
     "metadata": {},
     "output_type": "execute_result"
    }
   ],
   "source": [
    "#Division (Rounded Off)\n",
    "23//7"
   ]
  },
  {
   "cell_type": "code",
   "execution_count": 6,
   "metadata": {},
   "outputs": [
    {
     "data": {
      "text/plain": [
       "1"
      ]
     },
     "execution_count": 6,
     "metadata": {},
     "output_type": "execute_result"
    }
   ],
   "source": [
    "#Reminder\n",
    "25%3"
   ]
  },
  {
   "cell_type": "code",
   "execution_count": 12,
   "metadata": {},
   "outputs": [
    {
     "data": {
      "text/plain": [
       "32"
      ]
     },
     "execution_count": 12,
     "metadata": {},
     "output_type": "execute_result"
    }
   ],
   "source": [
    "#Exponential\n",
    "2**5"
   ]
  },
  {
   "cell_type": "markdown",
   "metadata": {},
   "source": [
    "# Assigning Variables"
   ]
  },
  {
   "cell_type": "markdown",
   "metadata": {},
   "source": [
    "Variable = Variable is a container for a value\n",
    "Variable name is a case sensitive. It means Python consider small latters and capital letters as a different.\n",
    "Variable name can not start with Special characters or Numbers except underscore(_) like \"125bhavik\"/ \"@bhavik\"\n"
   ]
  },
  {
   "cell_type": "code",
   "execution_count": 18,
   "metadata": {},
   "outputs": [
    {
     "name": "stdout",
     "output_type": "stream",
     "text": [
      "20\n",
      "Bhavik\n",
      "20.25565\n",
      "True\n",
      "False\n"
     ]
    }
   ],
   "source": [
    "#Assigning variable\n",
    "a = 20 #Assigning interger variable\n",
    "b = \"Bhavik\" #Assigning string variable\n",
    "c = 20.25565  #Assigning float variable\n",
    "d = True #Assining boolean variable\n",
    "e = False \n",
    "\n",
    "#Printing value of assigning a variable\n",
    "print(a)\n",
    "print(b)\n",
    "print(c)\n",
    "print(d)\n",
    "print(e)\n"
   ]
  },
  {
   "cell_type": "markdown",
   "metadata": {},
   "source": [
    "# Input Function"
   ]
  },
  {
   "cell_type": "code",
   "execution_count": 19,
   "metadata": {},
   "outputs": [
    {
     "name": "stdout",
     "output_type": "stream",
     "text": [
      "What is your name ?Bhavik\n"
     ]
    },
    {
     "data": {
      "text/plain": [
       "'Bhavik'"
      ]
     },
     "execution_count": 19,
     "metadata": {},
     "output_type": "execute_result"
    }
   ],
   "source": [
    "#Using input function in Python\n",
    "input(\"What is your name ?\")\n",
    "#Whatever values are entered in input are considered as a string"
   ]
  },
  {
   "cell_type": "code",
   "execution_count": 20,
   "metadata": {},
   "outputs": [
    {
     "name": "stdout",
     "output_type": "stream",
     "text": [
      "Enter number:125\n"
     ]
    },
    {
     "data": {
      "text/plain": [
       "'125'"
      ]
     },
     "execution_count": 20,
     "metadata": {},
     "output_type": "execute_result"
    }
   ],
   "source": [
    "#Using input function in python\n",
    "input(\"Enter number:\")"
   ]
  },
  {
   "cell_type": "code",
   "execution_count": 25,
   "metadata": {},
   "outputs": [
    {
     "name": "stdout",
     "output_type": "stream",
     "text": [
      "Enter Number5\n",
      "55\n"
     ]
    }
   ],
   "source": [
    "#Using input function in python for interger operation\n",
    "Number = int(input(\"Enter Number\"))\n",
    "print(Number +50)"
   ]
  },
  {
   "cell_type": "markdown",
   "metadata": {},
   "source": [
    "# Built Modules and Functions"
   ]
  },
  {
   "cell_type": "code",
   "execution_count": 26,
   "metadata": {},
   "outputs": [
    {
     "data": {
      "text/plain": [
       "['ArithmeticError',\n",
       " 'AssertionError',\n",
       " 'AttributeError',\n",
       " 'BaseException',\n",
       " 'BlockingIOError',\n",
       " 'BrokenPipeError',\n",
       " 'BufferError',\n",
       " 'BytesWarning',\n",
       " 'ChildProcessError',\n",
       " 'ConnectionAbortedError',\n",
       " 'ConnectionError',\n",
       " 'ConnectionRefusedError',\n",
       " 'ConnectionResetError',\n",
       " 'DeprecationWarning',\n",
       " 'EOFError',\n",
       " 'Ellipsis',\n",
       " 'EnvironmentError',\n",
       " 'Exception',\n",
       " 'False',\n",
       " 'FileExistsError',\n",
       " 'FileNotFoundError',\n",
       " 'FloatingPointError',\n",
       " 'FutureWarning',\n",
       " 'GeneratorExit',\n",
       " 'IOError',\n",
       " 'ImportError',\n",
       " 'ImportWarning',\n",
       " 'IndentationError',\n",
       " 'IndexError',\n",
       " 'InterruptedError',\n",
       " 'IsADirectoryError',\n",
       " 'KeyError',\n",
       " 'KeyboardInterrupt',\n",
       " 'LookupError',\n",
       " 'MemoryError',\n",
       " 'ModuleNotFoundError',\n",
       " 'NameError',\n",
       " 'None',\n",
       " 'NotADirectoryError',\n",
       " 'NotImplemented',\n",
       " 'NotImplementedError',\n",
       " 'OSError',\n",
       " 'OverflowError',\n",
       " 'PendingDeprecationWarning',\n",
       " 'PermissionError',\n",
       " 'ProcessLookupError',\n",
       " 'RecursionError',\n",
       " 'ReferenceError',\n",
       " 'ResourceWarning',\n",
       " 'RuntimeError',\n",
       " 'RuntimeWarning',\n",
       " 'StopAsyncIteration',\n",
       " 'StopIteration',\n",
       " 'SyntaxError',\n",
       " 'SyntaxWarning',\n",
       " 'SystemError',\n",
       " 'SystemExit',\n",
       " 'TabError',\n",
       " 'TimeoutError',\n",
       " 'True',\n",
       " 'TypeError',\n",
       " 'UnboundLocalError',\n",
       " 'UnicodeDecodeError',\n",
       " 'UnicodeEncodeError',\n",
       " 'UnicodeError',\n",
       " 'UnicodeTranslateError',\n",
       " 'UnicodeWarning',\n",
       " 'UserWarning',\n",
       " 'ValueError',\n",
       " 'Warning',\n",
       " 'WindowsError',\n",
       " 'ZeroDivisionError',\n",
       " '__IPYTHON__',\n",
       " '__build_class__',\n",
       " '__debug__',\n",
       " '__doc__',\n",
       " '__import__',\n",
       " '__loader__',\n",
       " '__name__',\n",
       " '__package__',\n",
       " '__spec__',\n",
       " 'abs',\n",
       " 'all',\n",
       " 'any',\n",
       " 'ascii',\n",
       " 'bin',\n",
       " 'bool',\n",
       " 'breakpoint',\n",
       " 'bytearray',\n",
       " 'bytes',\n",
       " 'callable',\n",
       " 'chr',\n",
       " 'classmethod',\n",
       " 'compile',\n",
       " 'complex',\n",
       " 'copyright',\n",
       " 'credits',\n",
       " 'delattr',\n",
       " 'dict',\n",
       " 'dir',\n",
       " 'display',\n",
       " 'divmod',\n",
       " 'enumerate',\n",
       " 'eval',\n",
       " 'exec',\n",
       " 'filter',\n",
       " 'float',\n",
       " 'format',\n",
       " 'frozenset',\n",
       " 'get_ipython',\n",
       " 'getattr',\n",
       " 'globals',\n",
       " 'hasattr',\n",
       " 'hash',\n",
       " 'help',\n",
       " 'hex',\n",
       " 'id',\n",
       " 'input',\n",
       " 'int',\n",
       " 'isinstance',\n",
       " 'issubclass',\n",
       " 'iter',\n",
       " 'len',\n",
       " 'license',\n",
       " 'list',\n",
       " 'locals',\n",
       " 'map',\n",
       " 'max',\n",
       " 'memoryview',\n",
       " 'min',\n",
       " 'next',\n",
       " 'object',\n",
       " 'oct',\n",
       " 'open',\n",
       " 'ord',\n",
       " 'pow',\n",
       " 'print',\n",
       " 'property',\n",
       " 'range',\n",
       " 'repr',\n",
       " 'reversed',\n",
       " 'round',\n",
       " 'set',\n",
       " 'setattr',\n",
       " 'slice',\n",
       " 'sorted',\n",
       " 'staticmethod',\n",
       " 'str',\n",
       " 'sum',\n",
       " 'super',\n",
       " 'tuple',\n",
       " 'type',\n",
       " 'vars',\n",
       " 'zip']"
      ]
     },
     "execution_count": 26,
     "metadata": {},
     "output_type": "execute_result"
    }
   ],
   "source": [
    "#Extracting list of inbuilt modules\n",
    "dir(__builtins__)"
   ]
  },
  {
   "cell_type": "code",
   "execution_count": 33,
   "metadata": {},
   "outputs": [
    {
     "name": "stdout",
     "output_type": "stream",
     "text": [
      "8\n",
      "8\n",
      "64\n",
      "17\n",
      "1258\n"
     ]
    }
   ],
   "source": [
    "#Using some basic inbuilt modules\n",
    "a = pow(2,3) #Square of\n",
    "b = min(12,15,48,64,15,8,56) #Finding minimum\n",
    "c = max(12,15,48,64,15,8,56) #Finding maximum\n",
    "d = len(\"My Name Is Bhavik\") #Computing length of a string\n",
    "e = abs(-1258) #Getting absolute value\n",
    "\n",
    "print(a)\n",
    "print(b)\n",
    "print(c)\n",
    "print(d)\n",
    "print(e)"
   ]
  },
  {
   "cell_type": "markdown",
   "metadata": {},
   "source": [
    "# Save and Run Python"
   ]
  },
  {
   "cell_type": "markdown",
   "metadata": {},
   "source": [
    "# Strings"
   ]
  },
  {
   "cell_type": "code",
   "execution_count": 36,
   "metadata": {},
   "outputs": [
    {
     "name": "stdout",
     "output_type": "stream",
     "text": [
      "Single Quotes\n",
      "Double Quotes\n",
      "Triple Quotes\n"
     ]
    }
   ],
   "source": [
    "#Writting string on a different qout\n",
    "a = 'Single Quotes'\n",
    "b = \"Double Quotes\"\n",
    "c = '''Triple Quotes'''\n",
    "\n",
    "print(a)\n",
    "print(b)\n",
    "print(c)\n",
    "\n",
    "#Writting a string in any above formate of a quote, The result will be the same."
   ]
  },
  {
   "cell_type": "markdown",
   "metadata": {},
   "source": [
    "# Strings with Escape Character(\\)"
   ]
  },
  {
   "cell_type": "code",
   "execution_count": 44,
   "metadata": {},
   "outputs": [
    {
     "name": "stdout",
     "output_type": "stream",
     "text": [
      "Single 'Quotes'\n",
      "Double \"Quotes\"\n",
      "Triple '''Quotes'\n",
      "I don't have any proble\n"
     ]
    }
   ],
   "source": [
    "#Using escape character backslash(\\) for writting string in quotes\n",
    "a = 'Single \\'Quotes\\'' #Writing with single qoute\n",
    "b = \"Double \\\"Quotes\\\"\" #Writing with double quote\n",
    "c = '''Triple \\'''Quotes\\'''''' #Writing with triple qoute\n",
    "d = 'I don\\'t have any proble'\n",
    "\n",
    "print(a)\n",
    "print(b)\n",
    "print(c)\n",
    "print(d)\n",
    "\n",
    "#If We want to use quotation in string, We have to use \\ (Backslash) so that Python will not consider the that qoutation and will print the result with qoute"
   ]
  },
  {
   "cell_type": "code",
   "execution_count": 47,
   "metadata": {},
   "outputs": [
    {
     "name": "stdout",
     "output_type": "stream",
     "text": [
      "Are you ready ? Y\\N\n"
     ]
    }
   ],
   "source": [
    "#Printing backslash while printing string\n",
    "#y = \"Are you ready ? Y\\N\"----This will throw an error due to using \\\n",
    "y = \"Are you ready ? Y\\\\N\"\n",
    "\n",
    "print(y)"
   ]
  },
  {
   "cell_type": "code",
   "execution_count": 45,
   "metadata": {},
   "outputs": [
    {
     "name": "stdout",
     "output_type": "stream",
     "text": [
      "Hi\n",
      "How are you ?\n"
     ]
    }
   ],
   "source": [
    "#Using backslash with 'n'(\\n) for printing string on a next line\n",
    "x = \"Hi\\nHow are you ?\"\n",
    "\n",
    "print(x)"
   ]
  },
  {
   "cell_type": "markdown",
   "metadata": {},
   "source": [
    "# Joining Strings"
   ]
  },
  {
   "cell_type": "code",
   "execution_count": 57,
   "metadata": {},
   "outputs": [
    {
     "name": "stdout",
     "output_type": "stream",
     "text": [
      "Bhavik Amardas Dudhrejiya\n",
      "Bhavik Amardas Dudhrejiya\n",
      "Hello World\n",
      "Rupees 50\n"
     ]
    }
   ],
   "source": [
    "#Joining string\n",
    "First_Name = \"Bhavik\"\n",
    "Middle_Name = \"Amardas\"\n",
    "Surname_Name = \"Dudhrejiya\"\n",
    "\n",
    "print(First_Name, Middle_Name, Surname_Name)\n",
    "print(First_Name+\" \"+Middle_Name+\" \"+Surname_Name)\n",
    "\n",
    "a = 'Hello '\n",
    "b = \"World\"\n",
    "\n",
    "print(a+b)\n",
    "\n",
    "t = \"Rupees \"\n",
    "u = str(50) #Converting integer into string otherwise it will gives an error due string and integer not able to concatenant\n",
    "\n",
    "print(t+u)"
   ]
  },
  {
   "cell_type": "markdown",
   "metadata": {},
   "source": [
    "# Multiplication of Strings"
   ]
  },
  {
   "cell_type": "code",
   "execution_count": 55,
   "metadata": {},
   "outputs": [
    {
     "name": "stdout",
     "output_type": "stream",
     "text": [
      "Bhavik Bhavik Bhavik Bhavik Bhavik Bhavik Bhavik Bhavik Bhavik Bhavik \n"
     ]
    }
   ],
   "source": [
    "#Printing number of time a same string\n",
    "a = \"Bhavik \"\n",
    "\n",
    "print(a * 10)"
   ]
  },
  {
   "cell_type": "markdown",
   "metadata": {},
   "source": [
    "# List"
   ]
  },
  {
   "cell_type": "markdown",
   "metadata": {},
   "source": [
    "#List is a collection of a values\n",
    "#List will create under square bracket []"
   ]
  },
  {
   "cell_type": "code",
   "execution_count": 59,
   "metadata": {},
   "outputs": [
    {
     "name": "stdout",
     "output_type": "stream",
     "text": [
      "[]\n"
     ]
    }
   ],
   "source": [
    "#Creating empty list\n",
    "name = []\n",
    "\n",
    "print(name)"
   ]
  },
  {
   "cell_type": "code",
   "execution_count": 61,
   "metadata": {},
   "outputs": [
    {
     "name": "stdout",
     "output_type": "stream",
     "text": [
      "['Goku', 'Vegita', 'Piccola', 'Gohan']\n",
      "[10, 20, 30, 40, 50, 60, 70, 80, 90, 100]\n"
     ]
    }
   ],
   "source": [
    "#Creating list\n",
    "name = [\"Goku\", \"Vegita\", \"Piccola\", \"Gohan\"]\n",
    "numbers = [10,20,30,40,50,60,70,80,90,100]\n",
    "\n",
    "print(name)\n",
    "print(numbers)"
   ]
  },
  {
   "cell_type": "markdown",
   "metadata": {},
   "source": [
    "# Index of a List"
   ]
  },
  {
   "cell_type": "markdown",
   "metadata": {},
   "source": [
    "#Positive Index of a list starts from 0\n",
    "#Negative Index of a list starts from -1"
   ]
  },
  {
   "cell_type": "code",
   "execution_count": 65,
   "metadata": {},
   "outputs": [
    {
     "name": "stdout",
     "output_type": "stream",
     "text": [
      "Goku\n",
      "['Goku', 'Vegita']\n",
      "[20, 30, 40, 50, 60, 70, 80, 90]\n",
      "100\n",
      "[20, 30, 40, 50, 60, 70, 80, 90]\n"
     ]
    }
   ],
   "source": [
    "#Creating list\n",
    "name = [\"Goku\", \"Vegita\", \"Piccola\", \"Gohan\"]\n",
    "numbers = [10,20,30,40,50,60,70,80,90,100]\n",
    "\n",
    "print(name[0]) #Extracting first name from a list\n",
    "print(name[:2]) #Extracting first and second name from a list\n",
    "print(numbers[1:9]) #Exacting 2nd to 9th numbers from a list\n",
    "print(numbers[-1]) #Extracting last number through negative indexing\n",
    "print(numbers[-9:-1]) #Extracting last to 2nd number through negative indexing"
   ]
  },
  {
   "cell_type": "markdown",
   "metadata": {},
   "source": [
    "# Adding single values into the List"
   ]
  },
  {
   "cell_type": "markdown",
   "metadata": {},
   "source": [
    "#For adding a value into the existing list there is a function call append()"
   ]
  },
  {
   "cell_type": "code",
   "execution_count": 67,
   "metadata": {},
   "outputs": [
    {
     "name": "stdout",
     "output_type": "stream",
     "text": [
      "['Goku', 'Vegita', 'Piccola', 'Gohan', 'Amar']\n",
      "[10, 20, 30, 40, 50, 60, 70, 80, 90, 100, 110]\n"
     ]
    }
   ],
   "source": [
    "#Adding value into the existing list \n",
    "name = [\"Goku\", \"Vegita\", \"Piccola\", \"Gohan\"]\n",
    "numbers = [10,20,30,40,50,60,70,80,90,100]\n",
    "\n",
    "name.append(\"Amar\")\n",
    "numbers.append(110)\n",
    "\n",
    "print(name)\n",
    "print(numbers)"
   ]
  },
  {
   "cell_type": "markdown",
   "metadata": {},
   "source": [
    "# Adding multiple values into the List"
   ]
  },
  {
   "cell_type": "code",
   "execution_count": 76,
   "metadata": {},
   "outputs": [
    {
     "name": "stdout",
     "output_type": "stream",
     "text": [
      "['Goku', 'Vegita', 'Piccola', 'Gohan', 'Vijay', 'Ajay', 'Ankit']\n",
      "[10, 20, 30, 40, 50, 60, 70, 80, 90, 100, 120, 130, 140]\n"
     ]
    }
   ],
   "source": [
    "#Adding value into the existing list \n",
    "name = [\"Goku\", \"Vegita\", \"Piccola\", \"Gohan\"]\n",
    "numbers = [10,20,30,40,50,60,70,80,90,100]\n",
    "\n",
    "add_name = [\"Vijay\", \"Ajay\", \"Ankit\"]\n",
    "add_number = [120,130,140]\n",
    "\n",
    "name.extend(add_name)\n",
    "numbers.extend(add_number)\n",
    "\n",
    "print(name)\n",
    "print(numbers)"
   ]
  },
  {
   "cell_type": "markdown",
   "metadata": {},
   "source": [
    "# Removing values from List\n"
   ]
  },
  {
   "cell_type": "code",
   "execution_count": 73,
   "metadata": {},
   "outputs": [
    {
     "name": "stdout",
     "output_type": "stream",
     "text": [
      "['Goku', 'Vegita', 'Gohan', 'Vijay', 'Ajay', 'Ankit']\n"
     ]
    }
   ],
   "source": [
    "#Removing Single value\n",
    "name.remove(\"Piccola\")\n",
    "\n",
    "print(name)"
   ]
  },
  {
   "cell_type": "markdown",
   "metadata": {},
   "source": [
    "# Slices or Slicing of List"
   ]
  },
  {
   "cell_type": "code",
   "execution_count": 108,
   "metadata": {},
   "outputs": [
    {
     "name": "stdout",
     "output_type": "stream",
     "text": [
      "[0, 1, 2, 3, 4, 5, 6, 7, 8, 9, 10]\n",
      "[4, 5, 6, 7, 8]\n",
      "[3]\n",
      "[0, 1, 2, 3, 4, 5]\n",
      "[2, 3, 4, 5, 6, 7, 8, 9, 10]\n",
      "[1, 2, 3, 4, 5, 6, 7, 8]\n",
      "[0, 2, 4, 6, 8]\n",
      "[0, 3, 6, 9]\n",
      "[0, 3, 6, 9]\n",
      "[0, 4, 8]\n",
      "[0, 4, 8]\n",
      "[10, 8, 6, 4, 2, 0]\n",
      "[10, 7, 4, 1]\n"
     ]
    }
   ],
   "source": [
    "#Slicing the list\n",
    "myList = [0,1,2,3,4,5,6,7,8,9,10]\n",
    "\n",
    "#Getting whole list\n",
    "print(myList[:])\n",
    "#Slice the list from 4 to 8\n",
    "print(myList[4:9])\n",
    "#Slice the list of 3\n",
    "print(myList[3:4])\n",
    "#Slice the list from start to 5\n",
    "print(myList[:6])\n",
    "#Slice the list from 2 to till end\n",
    "print(myList[2:])\n",
    "#Slice the list from 8 to 1 through negative index\n",
    "print(myList[-10:-2])\n",
    "#Getting list skip the value by 1\n",
    "print(myList[0:10:2])\n",
    "#Getting list skip the value by 2\n",
    "print(myList[0:10:3])\n",
    "print(myList[::3])\n",
    "#Getting list skip the value by 3\n",
    "print(myList[0:10:4])\n",
    "print(myList[::4])\n",
    "print(myList[::-2])\n",
    "print(myList[::-3])"
   ]
  },
  {
   "cell_type": "markdown",
   "metadata": {},
   "source": [
    "# If Else Statement (Single Condition)"
   ]
  },
  {
   "cell_type": "code",
   "execution_count": 13,
   "metadata": {},
   "outputs": [
    {
     "name": "stdout",
     "output_type": "stream",
     "text": [
      "Enter Number:124448688844862\n",
      "Even\n"
     ]
    }
   ],
   "source": [
    "#Creating input for numbers\n",
    "a = int(input(\"Enter Number:\"))\n",
    "\n",
    "#If the reminder of the a divided by 2 comes zero then it is a even number otherwise zero\n",
    "if a%2==0:\n",
    "    print(\"Even\")\n",
    "else:\n",
    "    print(\"Odd\")"
   ]
  },
  {
   "cell_type": "markdown",
   "metadata": {},
   "source": [
    "# Elif Statement (Multiple Condition)"
   ]
  },
  {
   "cell_type": "code",
   "execution_count": 18,
   "metadata": {},
   "outputs": [
    {
     "name": "stdout",
     "output_type": "stream",
     "text": [
      "Enter Name:Bhavik\n",
      "The name entered is Bhavik\n"
     ]
    }
   ],
   "source": [
    "#Creating input for name\n",
    "name = input(\"Enter Name:\")\n",
    "\n",
    "if name==\"Bhavik\":\n",
    "    print(\"The name entered is\", name)\n",
    "elif name==\"Rohan\":\n",
    "    print(\"The name entered is\", name)\n",
    "elif name==\"Vikas\":\n",
    "    print(\"The name entered is\", name)\n",
    "else:\n",
    "    print(\"Invalid Name Entered\")"
   ]
  },
  {
   "cell_type": "markdown",
   "metadata": {},
   "source": [
    "# Nested IF (One condition depends on the other condition)"
   ]
  },
  {
   "cell_type": "code",
   "execution_count": 16,
   "metadata": {},
   "outputs": [
    {
     "name": "stdout",
     "output_type": "stream",
     "text": [
      "Whether it is Animal/Bird ?:animal\n",
      "Entered name:parrot\n"
     ]
    }
   ],
   "source": [
    "name = input(\"Whether it is Animal/Bird ?:\")\n",
    "animal = input(\"Entered name:\")\n",
    "\n",
    "if name == \"animal\":\n",
    "    if animal == \"Dog\":\n",
    "        print(\"This is domestic animal\")\n",
    "if name == \"bird\":\n",
    "    if animal == \"Sparrow\":\n",
    "        print(\"This is Domestic Bird\")\n",
    "if name ==\"bird\":\n",
    "    if animal ==\"Peacock\":\n",
    "        print(\"This is Wildlife Bird\")\n",
    "if name == \"animal\":\n",
    "    if animal ==\"Lion\":\n",
    "        print(\"This is Wildlife Animal \")\n",
    "if name == \"animal\":\n",
    "    if animal == \"Rabit\":\n",
    "        print(\"This is wildlife Animal\")\n",
    "if name == \"animal\":\n",
    "    if animal != animal:\n",
    "        print(\"This is not in a list\")\n",
    "else:\n",
    "    print(\"This is not not Animal/Bird/Wild Animal\")"
   ]
  },
  {
   "cell_type": "markdown",
   "metadata": {},
   "source": [
    "# Comparison Operators"
   ]
  },
  {
   "cell_type": "markdown",
   "metadata": {},
   "source": [
    "\n",
    "#< Less Than\n",
    "#<= Less Than or Equals to\n",
    "#> Greater Than\n",
    "#>= Greater Than or Equals to\n",
    "#== Equals To\n",
    "#!= Not Equals To"
   ]
  },
  {
   "cell_type": "code",
   "execution_count": 11,
   "metadata": {},
   "outputs": [
    {
     "name": "stdout",
     "output_type": "stream",
     "text": [
      "True\n",
      "True\n",
      "False\n",
      "True\n",
      "True\n",
      "True\n",
      "True\n",
      "False\n",
      "False\n"
     ]
    }
   ],
   "source": [
    "#Checking logical operators with numbers\n",
    "print(9<10)\n",
    "print(10>9)\n",
    "print(9>10)\n",
    "print(9<=9)\n",
    "print(9>=9)\n",
    "print(11<=12)\n",
    "print(11!=12)\n",
    "print(11!=11)\n",
    "print(\"Bhavik\"==\"Ramesh\")"
   ]
  },
  {
   "cell_type": "markdown",
   "metadata": {},
   "source": [
    "# Logical Operators"
   ]
  },
  {
   "cell_type": "markdown",
   "metadata": {},
   "source": [
    "#and -----If both conditions are True then it is True. If any one condition False then it is False\n",
    "#or-------If any one condition is True then it is True otherwise False\n",
    "#in\n",
    "#is"
   ]
  },
  {
   "cell_type": "code",
   "execution_count": 20,
   "metadata": {},
   "outputs": [
    {
     "name": "stdout",
     "output_type": "stream",
     "text": [
      "True\n",
      "False\n",
      "True\n",
      "True\n",
      "False\n",
      "True\n",
      "True\n"
     ]
    }
   ],
   "source": [
    "#and Operator\n",
    "print(9<10 and 9!=10) #Both the conditions are True\n",
    "print(9>10 and 9!=10) #First condition is False but second is True hence it is False\n",
    "\n",
    "#or Operator\n",
    "print(9>10 or 9!=10) #Second condition is True hence it is True\n",
    "\n",
    "#in Operator\n",
    "print(\"a\" in \"Bhavik\")\n",
    "print(\"o\" in \"Bhavik\")\n",
    "print(\"Bha\" in \"Bhavik\")\n",
    "\n",
    "#is Operator\n",
    "a = \"Bhavik\"\n",
    "b = \"Bhavik\"\n",
    "\n",
    "print(a is b)"
   ]
  },
  {
   "cell_type": "markdown",
   "metadata": {},
   "source": [
    "# While Loop"
   ]
  },
  {
   "cell_type": "code",
   "execution_count": null,
   "metadata": {},
   "outputs": [],
   "source": [
    "#Defining a\n",
    "a = 0\n",
    "\n",
    "#Running loop(Adding 1 with a value on each loop) till a reach to 10\n",
    "while a<10:\n",
    "    print(a)\n",
    "    a+=1"
   ]
  },
  {
   "cell_type": "code",
   "execution_count": 1,
   "metadata": {},
   "outputs": [
    {
     "name": "stdout",
     "output_type": "stream",
     "text": [
      "10\n",
      "20\n",
      "30\n",
      "40\n",
      "50\n",
      "60\n",
      "70\n",
      "80\n",
      "90\n"
     ]
    }
   ],
   "source": [
    "#Defining a\n",
    "a = 10\n",
    "\n",
    "#Running loop(Adding 1 with a value on each loop) till a reach to 10\n",
    "while a<100:\n",
    "    print(a)\n",
    "    a+=10"
   ]
  },
  {
   "cell_type": "markdown",
   "metadata": {},
   "source": [
    "#Defining a Function"
   ]
  },
  {
   "cell_type": "markdown",
   "metadata": {},
   "source": [
    "#Default parameters and Multiple Arguments"
   ]
  },
  {
   "cell_type": "code",
   "execution_count": null,
   "metadata": {},
   "outputs": [],
   "source": []
  },
  {
   "cell_type": "code",
   "execution_count": null,
   "metadata": {},
   "outputs": [],
   "source": []
  },
  {
   "cell_type": "code",
   "execution_count": null,
   "metadata": {},
   "outputs": [],
   "source": []
  },
  {
   "cell_type": "code",
   "execution_count": null,
   "metadata": {},
   "outputs": [],
   "source": []
  },
  {
   "cell_type": "code",
   "execution_count": null,
   "metadata": {},
   "outputs": [],
   "source": []
  }
 ],
 "metadata": {
  "kernelspec": {
   "display_name": "Python 3",
   "language": "python",
   "name": "python3"
  },
  "language_info": {
   "codemirror_mode": {
    "name": "ipython",
    "version": 3
   },
   "file_extension": ".py",
   "mimetype": "text/x-python",
   "name": "python",
   "nbconvert_exporter": "python",
   "pygments_lexer": "ipython3",
   "version": "3.8.3"
  }
 },
 "nbformat": 4,
 "nbformat_minor": 4
}
